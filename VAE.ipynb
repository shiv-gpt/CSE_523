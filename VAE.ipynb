{
 "cells": [
  {
   "cell_type": "code",
   "execution_count": 2,
   "metadata": {},
   "outputs": [],
   "source": [
    "import os\n",
    "import torch\n",
    "import torchvision\n",
    "import torch.nn as nn\n",
    "from torch.autograd import Variable\n",
    "import torch.nn.functional as F\n",
    "from torchvision import transforms\n",
    "from torchvision import datasets\n",
    "from torch.utils.data import DataLoader\n",
    "from torchvision.utils import make_grid\n",
    "import numpy as np\n",
    "\n",
    "%matplotlib inline\n",
    "\n",
    "\n",
    "\n",
    "import matplotlib.pyplot as plt\n",
    "import matplotlib.image as mpimg\n",
    "import numpy as np"
   ]
  },
  {
   "cell_type": "code",
   "execution_count": 42,
   "metadata": {},
   "outputs": [],
   "source": [
    "num_epochs = 50\n",
    "batch_size = 100\n",
    "l_r = 0.001\n",
    "\n",
    "trans = transforms.Compose([transforms.ToTensor(), transforms.Normalize((0.5, 0.5, 0.5),(0.5, 0.5, 0.5))])\n",
    "\n",
    "ds = datasets.MNIST('./data', transform=transforms.ToTensor())\n",
    "\n",
    "dl = DataLoader(ds, batch_size=batch_size, shuffle=True)\n",
    "\n"
   ]
  },
  {
   "cell_type": "code",
   "execution_count": 55,
   "metadata": {},
   "outputs": [],
   "source": [
    "class VAE(nn.Module):\n",
    "    def __init__(self):\n",
    "        super(VAE, self).__init__()\n",
    "        self.fc1 = nn.Linear(784, 392)\n",
    "        #self.fc2 = nn.Linear(392, 128)\n",
    "        self.mu = nn.Linear(392, 32)\n",
    "        self.logvar = nn.Linear(392,32)\n",
    "        self.fc3 = nn.Linear(32, 392)\n",
    "        #self.fc4 = nn.Linear(128, 392)\n",
    "        self.fc5 = nn.Linear(392, 784)\n",
    "        \n",
    "    def encoder(self, x):\n",
    "        x = F.relu(self.fc1(x))\n",
    "        #x = F.relu(self.fc2(x))\n",
    "        log_var = self.logvar(x)\n",
    "        mean = self.mu(x)\n",
    "        return log_var, mean\n",
    "    \n",
    "    def decoder(self, log_var, mean):\n",
    "        #########    Reparametrization Trick       ###########\n",
    "        e = torch.randn(mean.size(0), mean.size(1))\n",
    "        e = Variable(e)\n",
    "        latent = mean + e*torch.exp(log_var/2)\n",
    "        ############################\n",
    "        x = F.relu(self.fc3(latent))\n",
    "        #x = F.relu(self.fc4(x))\n",
    "        x = self.fc5(x)\n",
    "        return F.sigmoid(x)\n",
    "        \n",
    "    def forward(self, x):\n",
    "        log_var, mean = self.encoder(x)\n",
    "        x = self.decoder(log_var, mean)\n",
    "        return x, log_var, mean\n",
    "    \n",
    "def show(img):\n",
    "    npimg = img.numpy()\n",
    "    plt.imshow(np.transpose(npimg, (1,2,0)), interpolation='nearest')\n",
    "\n"
   ]
  },
  {
   "cell_type": "code",
   "execution_count": 56,
   "metadata": {},
   "outputs": [],
   "source": [
    "vae = VAE()\n",
    "adam_optimize = torch.optim.Adam(vae.parameters(), lr=l_r)"
   ]
  },
  {
   "cell_type": "code",
   "execution_count": 57,
   "metadata": {},
   "outputs": [],
   "source": [
    "def loss_calc(out, inp, mean, log_var):\n",
    "    bce = F.binary_cross_entropy(out, inp, size_average=False)\n",
    "    kl_divergence = torch.sum(0.5*(mean.pow(2) + log_var.exp() - 1 - log_var))\n",
    "    return bce + kl_divergence"
   ]
  },
  {
   "cell_type": "code",
   "execution_count": 58,
   "metadata": {},
   "outputs": [
    {
     "name": "stdout",
     "output_type": "stream",
     "text": [
      "('Loss after Epoch #{} =  {.4f}', 1, -1437593.625)\n",
      "('Loss after Epoch #{} =  {.4f}', 2, -1398677.0)\n",
      "('Loss after Epoch #{} =  {.4f}', 3, -1446720.125)\n",
      "('Loss after Epoch #{} =  {.4f}', 4, -1451732.25)\n",
      "('Loss after Epoch #{} =  {.4f}', 5, -1490038.75)\n",
      "('Loss after Epoch #{} =  {.4f}', 6, -1491346.375)\n",
      "('Loss after Epoch #{} =  {.4f}', 7, -1542780.875)\n",
      "('Loss after Epoch #{} =  {.4f}', 8, -1541302.75)\n",
      "('Loss after Epoch #{} =  {.4f}', 9, -1507277.5)\n",
      "('Loss after Epoch #{} =  {.4f}', 10, -1552791.375)\n",
      "('Loss after Epoch #{} =  {.4f}', 11, -1548031.125)\n",
      "('Loss after Epoch #{} =  {.4f}', 12, -1589907.625)\n",
      "('Loss after Epoch #{} =  {.4f}', 13, -1557169.625)\n",
      "('Loss after Epoch #{} =  {.4f}', 14, -1570838.875)\n",
      "('Loss after Epoch #{} =  {.4f}', 15, -1577083.625)\n",
      "('Loss after Epoch #{} =  {.4f}', 16, -1587572.0)\n",
      "('Loss after Epoch #{} =  {.4f}', 17, -1555244.5)\n",
      "('Loss after Epoch #{} =  {.4f}', 18, -1580681.25)\n",
      "('Loss after Epoch #{} =  {.4f}', 19, -1570131.625)\n",
      "('Loss after Epoch #{} =  {.4f}', 20, -1537921.625)\n",
      "('Loss after Epoch #{} =  {.4f}', 21, -1564323.125)\n",
      "('Loss after Epoch #{} =  {.4f}', 22, -1609314.875)\n",
      "('Loss after Epoch #{} =  {.4f}', 23, -1584792.875)\n",
      "('Loss after Epoch #{} =  {.4f}', 24, -1568085.5)\n",
      "('Loss after Epoch #{} =  {.4f}', 25, -1603348.75)\n",
      "('Loss after Epoch #{} =  {.4f}', 26, -1624933.875)\n",
      "('Loss after Epoch #{} =  {.4f}', 27, -1631270.75)\n",
      "('Loss after Epoch #{} =  {.4f}', 28, -1617164.375)\n",
      "('Loss after Epoch #{} =  {.4f}', 29, -1614942.125)\n",
      "('Loss after Epoch #{} =  {.4f}', 30, -1612060.5)\n",
      "('Loss after Epoch #{} =  {.4f}', 31, -1593752.625)\n",
      "('Loss after Epoch #{} =  {.4f}', 32, -1637728.75)\n",
      "('Loss after Epoch #{} =  {.4f}', 33, -1634785.75)\n",
      "('Loss after Epoch #{} =  {.4f}', 34, -1631283.625)\n",
      "('Loss after Epoch #{} =  {.4f}', 35, -1633095.25)\n",
      "('Loss after Epoch #{} =  {.4f}', 36, -1593599.375)\n",
      "('Loss after Epoch #{} =  {.4f}', 37, -1615983.625)\n",
      "('Loss after Epoch #{} =  {.4f}', 38, -1633330.0)\n",
      "('Loss after Epoch #{} =  {.4f}', 39, -1651866.25)\n",
      "('Loss after Epoch #{} =  {.4f}', 40, -1660989.0)\n",
      "('Loss after Epoch #{} =  {.4f}', 41, 3730741919744.0)\n",
      "('Loss after Epoch #{} =  {.4f}', 42, 390150467092480.0)\n",
      "('Loss after Epoch #{} =  {.4f}', 43, 86702697742336.0)\n",
      "('Loss after Epoch #{} =  {.4f}', 44, 67548443836416.0)\n",
      "('Loss after Epoch #{} =  {.4f}', 45, 106041299697664.0)\n",
      "('Loss after Epoch #{} =  {.4f}', 46, 6339256909824.0)\n",
      "('Loss after Epoch #{} =  {.4f}', 47, 1087512772608.0)\n",
      "('Loss after Epoch #{} =  {.4f}', 48, 42712862556160.0)\n",
      "('Loss after Epoch #{} =  {.4f}', 49, 13287106281472.0)\n",
      "('Loss after Epoch #{} =  {.4f}', 50, 16076183175168.0)\n"
     ]
    },
    {
     "data": {
      "image/png": "[encoded data removed]",
      "text/plain": [
       "<matplotlib.figure.Figure at 0x7fc7782a9790>"
      ]
     },
     "metadata": {},
     "output_type": "display_data"
    }
   ],
   "source": [
    "for epoch in range(1, num_epochs+1):\n",
    "    for d in dl:\n",
    "        i, l = d\n",
    "        i = Variable(i.view(i.size(0), -1))\n",
    "        o, log_var, mean = vae(i)\n",
    "        loss_val = loss_calc(o, i, mean, log_var)\n",
    "        adam_optimize.zero_grad()\n",
    "        loss_val.backward()\n",
    "        adam_optimize.step()\n",
    "    print(\"Loss after Epoch #{} =  {.4f}\", epoch, loss_val.data[0])\n",
    "    if epoch%10==0:\n",
    "        out = o.data\n",
    "        out = out.view(out.size(0), 1, 28, 28)\n",
    "        show(make_grid(out, nrow=10,normalize=True))\n",
    "\n",
    "        \n",
    "torch.save(vae.state_dict(), './vse.pth')"
   ]
  },
  {
   "cell_type": "code",
   "execution_count": null,
   "metadata": {},
   "outputs": [],
   "source": []
  }
 ],
 "metadata": {
  "kernelspec": {
   "display_name": "Python 2",
   "language": "python",
   "name": "python2"
  },
  "language_info": {
   "codemirror_mode": {
    "name": "ipython",
    "version": 2
   },
   "file_extension": ".py",
   "mimetype": "text/x-python",
   "name": "python",
   "nbconvert_exporter": "python",
   "pygments_lexer": "ipython2",
   "version": "2.7.12"
  }
 },
 "nbformat": 4,
 "nbformat_minor": 2
}
